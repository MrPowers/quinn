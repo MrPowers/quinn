{
 "cells": [
  {
   "cell_type": "markdown",
   "id": "232ffdc4-0204-42e2-a5ac-d80f1b279b67",
   "metadata": {},
   "source": [
    "# Working with PySpark logical plan\n",
    "\n",
    "How to work with spark logical and optimized logical plan to extract useful information."
   ]
  },
  {
   "cell_type": "code",
   "execution_count": 1,
   "id": "9a6bc889-7b9c-4422-aabe-9744ba7f4a6e",
   "metadata": {
    "tags": []
   },
   "outputs": [
    {
     "name": "stderr",
     "output_type": "stream",
     "text": [
      "/home/sem/github/quinn/quinn/experimental/__init__.py:6: UserWarning: This API is experimental and not stable!\n",
      "  from quinn.experimental.plan_utils import PlanType # noqa: F401, I001\n"
     ]
    }
   ],
   "source": [
    "from quinn.experimental import get_plan_from_df, PlanType, estimate_size_of_df\n",
    "from quinn.experimental.plan_utils import get_column_lineage, get_column_lineage_graph, plot_column_lineage_graph"
   ]
  },
  {
   "cell_type": "code",
   "execution_count": 2,
   "id": "a6ab2ed4-8f6f-401a-9905-e785fe37bfb8",
   "metadata": {
    "tags": []
   },
   "outputs": [
    {
     "name": "stderr",
     "output_type": "stream",
     "text": [
      "23/12/17 14:58:45 WARN Utils: Your hostname, nixos resolves to a loopback address: 127.0.0.2; using 192.168.0.15 instead (on interface wlp0s20f3)\n",
      "23/12/17 14:58:45 WARN Utils: Set SPARK_LOCAL_IP if you need to bind to another address\n",
      "Setting default log level to \"WARN\".\n",
      "To adjust logging level use sc.setLogLevel(newLevel). For SparkR, use setLogLevel(newLevel).\n",
      "23/12/17 14:58:46 WARN NativeCodeLoader: Unable to load native-hadoop library for your platform... using builtin-java classes where applicable\n"
     ]
    }
   ],
   "source": [
    "from pyspark.sql import SparkSession, functions as F\n",
    "\n",
    "spark = SparkSession.builder.master(\"local[*]\").getOrCreate()"
   ]
  },
  {
   "cell_type": "code",
   "execution_count": 3,
   "id": "5411d01f-45d3-44a9-9cb4-b1a1d4c68e0a",
   "metadata": {
    "tags": []
   },
   "outputs": [],
   "source": [
    "data = [(i, f\"id{i}\", f\"id2{i}\", f\"id3{i}\") for i in range(1_100_000)]\n",
    "sdf = spark.createDataFrame(data, schema=\"struct<c1:int,c2:string,c3:string,c4:string>\").withColumn(\"new_col\", F.col(\"c1\") * 4)"
   ]
  },
  {
   "cell_type": "code",
   "execution_count": 4,
   "id": "854c2f57-518a-4e69-9655-affa052a0fc0",
   "metadata": {
    "tags": []
   },
   "outputs": [
    {
     "name": "stdout",
     "output_type": "stream",
     "text": [
      "'Project [c1#0, c2#1, c3#2, c4#3, ('c1 * 4) AS new_col#8]\n",
      "+- LogicalRDD [c1#0, c2#1, c3#2, c4#3], false\n",
      "\n"
     ]
    }
   ],
   "source": [
    "print(get_plan_from_df(sdf, PlanType.PARSED_LOGICAL_PLAN))"
   ]
  },
  {
   "cell_type": "code",
   "execution_count": 5,
   "id": "b7974b30-9d8d-4864-81ce-5e2a4a11ca5d",
   "metadata": {
    "tags": []
   },
   "outputs": [
    {
     "name": "stdout",
     "output_type": "stream",
     "text": [
      "Project [c1#0, c2#1, c3#2, c4#3, (c1#0 * 4) AS new_col#8]\n",
      "+- LogicalRDD [c1#0, c2#1, c3#2, c4#3], false\n",
      "\n"
     ]
    }
   ],
   "source": [
    "print(get_plan_from_df(sdf, PlanType.ANALYZED_LOGICAL_PLAN))"
   ]
  },
  {
   "cell_type": "code",
   "execution_count": 6,
   "id": "d0e4589b-3844-4587-90cd-44d27f2743bc",
   "metadata": {
    "tags": []
   },
   "outputs": [
    {
     "name": "stdout",
     "output_type": "stream",
     "text": [
      "Project [c1#0, c2#1, c3#2, c4#3, (c1#0 * 4) AS new_col#8]\n",
      "+- LogicalRDD [c1#0, c2#1, c3#2, c4#3], false\n",
      "\n"
     ]
    }
   ],
   "source": [
    "print(get_plan_from_df(sdf, PlanType.OPTIMIZED_LOGICAL_PLAN))"
   ]
  },
  {
   "cell_type": "code",
   "execution_count": 7,
   "id": "2079050f-e579-4987-b672-6c88bd38558a",
   "metadata": {
    "tags": []
   },
   "outputs": [
    {
     "name": "stdout",
     "output_type": "stream",
     "text": [
      "*(1) Project [c1#0, c2#1, c3#2, c4#3, (c1#0 * 4) AS new_col#8]\n",
      "+- *(1) Scan ExistingRDD[c1#0,c2#1,c3#2,c4#3]\n",
      "\n"
     ]
    }
   ],
   "source": [
    "print(get_plan_from_df(sdf, PlanType.PHYSICAL_PLAN))"
   ]
  },
  {
   "cell_type": "code",
   "execution_count": 8,
   "id": "1c6c42b7-2964-4c33-a250-c94da8e1a069",
   "metadata": {
    "tags": []
   },
   "outputs": [
    {
     "data": {
      "text/plain": [
       "-1"
      ]
     },
     "execution_count": 8,
     "metadata": {},
     "output_type": "execute_result"
    }
   ],
   "source": [
    "estimate_size_of_df(sdf) # statistics for generated in runtime DF is not available"
   ]
  },
  {
   "cell_type": "markdown",
   "id": "953e5a12-0927-41d2-9639-b017218564cf",
   "metadata": {},
   "source": [
    "For the next few tests we need to work with dataset from the disk. To reproduce the code you can use the `farsante` data generators:\n",
    "https://github.com/MrPowers/farsante\n",
    "\n",
    "Especially rust h2o dataset generators:\n",
    "https://github.com/MrPowers/farsante/tree/master/h2o-data-rust"
   ]
  },
  {
   "cell_type": "code",
   "execution_count": 9,
   "id": "fe642002-08ef-4993-b9a6-fa2c15563ac5",
   "metadata": {
    "tags": []
   },
   "outputs": [
    {
     "data": {
      "text/plain": [
       "4831838208.0"
      ]
     },
     "execution_count": 9,
     "metadata": {},
     "output_type": "execute_result"
    }
   ],
   "source": [
    "estimate_size_of_df(spark.read.csv(\"/home/sem/github/farsante/h2o-data-rust/G1_1e8_1e8_10_5.csv\")) # ~4.5 Gb"
   ]
  },
  {
   "cell_type": "markdown",
   "id": "c6366b4d-50de-4ba7-9c70-21f154cc8e7e",
   "metadata": {},
   "source": [
    "Output is in bytes and not so very friendly. By passing an additional parameter `size_in_mb` you can make it more human-readable:"
   ]
  },
  {
   "cell_type": "code",
   "execution_count": 10,
   "id": "1240d092-f211-4e91-bd47-59f1241d6efc",
   "metadata": {
    "tags": []
   },
   "outputs": [
    {
     "data": {
      "text/plain": [
       "4608.0"
      ]
     },
     "execution_count": 10,
     "metadata": {},
     "output_type": "execute_result"
    }
   ],
   "source": [
    "estimate_size_of_df(spark.read.csv(\"/home/sem/github/farsante/h2o-data-rust/G1_1e8_1e8_10_5.csv\"), size_in_mb=True)"
   ]
  },
  {
   "cell_type": "markdown",
   "id": "186e5668-9216-4756-a2ae-e138ce43bc15",
   "metadata": {},
   "source": [
    "## Column-level data lineage\n",
    "\n",
    "There is a special project, that provide more advanced and stable data lineage on the column-level:\n",
    "https://github.com/AbsaOSS/spline\n",
    "\n",
    "But `SPLINE` require an additional server and a lot of manual configuration. If you want to have something in-line and lightweight, you can use utilities from `Quinn`."
   ]
  },
  {
   "cell_type": "code",
   "execution_count": 11,
   "id": "eed3a355-205f-4b80-bbe2-6299982382a7",
   "metadata": {
    "tags": []
   },
   "outputs": [
    {
     "name": "stdout",
     "output_type": "stream",
     "text": [
      "root\n",
      " |-- id1: string (nullable = true)\n",
      " |-- id2: string (nullable = true)\n",
      " |-- id4: string (nullable = true)\n",
      " |-- id5: string (nullable = true)\n",
      " |-- v2: string (nullable = true)\n",
      "\n"
     ]
    }
   ],
   "source": [
    "dat = spark.read.csv(\"/home/sem/github/farsante/h2o-data-rust/J1_1e8_1e5_5.csv\", header=True)\n",
    "\n",
    "dat.printSchema()"
   ]
  },
  {
   "cell_type": "code",
   "execution_count": 12,
   "id": "ac7b74d3-eaf0-4618-82fe-c1bd797f7285",
   "metadata": {
    "tags": []
   },
   "outputs": [],
   "source": [
    "dat_new = (\n",
    "    dat.withColumn(\"id1_renamed\", F.col(\"id1\"))\n",
    "    .withColumn(\"id1_and_id2\", F.concat_ws(\"_\", F.col(\"id1\"), F.col(\"id2\")))\n",
    "    .withColumn(\"num1\", F.lit(1))\n",
    "    .withColumn(\"num2\", F.lit(2))\n",
    "    .select(\"id1_renamed\", \"id1_and_id2\", \"id1\", \"num1\", \"num2\")\n",
    "    .withColumn(\"hash_id\", F.hash(\"id1_and_id2\"))\n",
    "    .join(dat.select(\"id1\", \"id4\"), on=[\"id1\"], how=\"left\")\n",
    "    .withColumn(\"hash_of_two_ids\", F.concat_ws(\"_\", \"id4\", \"hash_id\"))\n",
    "    .groupBy(\"id1_renamed\")\n",
    "    .agg(F.count_distinct(\"hash_of_two_ids\").alias(\"cnt_ids\"), F.sum(F.col(\"num1\") + F.col(\"num2\")).alias(\"sum_col\"))\n",
    ")"
   ]
  },
  {
   "cell_type": "code",
   "execution_count": 13,
   "id": "68304457-4ea9-4c7c-b79c-0fb56f4f9f9a",
   "metadata": {
    "tags": []
   },
   "outputs": [],
   "source": [
    "col = \"cnt_ids\""
   ]
  },
  {
   "cell_type": "code",
   "execution_count": 14,
   "id": "8e48b579-aefc-428c-bc12-d5de354b948d",
   "metadata": {
    "tags": []
   },
   "outputs": [],
   "source": [
    "lineage = get_column_lineage(dat_new, col)"
   ]
  },
  {
   "cell_type": "code",
   "execution_count": 15,
   "id": "d391a01e-dfc4-4a59-b74f-191f0aecfd02",
   "metadata": {
    "tags": []
   },
   "outputs": [],
   "source": [
    "graph = get_column_lineage_graph(dat_new, col)"
   ]
  },
  {
   "cell_type": "code",
   "execution_count": 16,
   "id": "eed96057-b62d-40a7-90d7-e0ff14d9c17b",
   "metadata": {
    "tags": []
   },
   "outputs": [
    {
     "name": "stderr",
     "output_type": "stream",
     "text": [
      "/tmp/nix-shell.kUR9Ar/ipykernel_47464/1976561592.py:3: UserWarning: FigureCanvasAgg is non-interactive, and thus cannot be shown\n",
      "  f.show()\n"
     ]
    },
    {
     "data": {
      "image/png": "[encoded data removed]",
      "text/plain": [
       "<Figure size 640x480 with 1 Axes>"
      ]
     },
     "metadata": {},
     "output_type": "display_data"
    }
   ],
   "source": [
    "import matplotlib.pyplot as plt\n",
    "f = plot_column_lineage_graph(dat_new, col)\n",
    "f.show()"
   ]
  },
  {
   "cell_type": "code",
   "execution_count": null,
   "id": "d1165cd5-58ec-433c-bb5b-5c5d1c3294f7",
   "metadata": {},
   "outputs": [],
   "source": []
  }
 ],
 "metadata": {
  "kernelspec": {
   "display_name": "Python 3 (ipykernel)",
   "language": "python",
   "name": "python3"
  },
  "language_info": {
   "codemirror_mode": {
    "name": "ipython",
    "version": 3
   },
   "file_extension": ".py",
   "mimetype": "text/x-python",
   "name": "python",
   "nbconvert_exporter": "python",
   "pygments_lexer": "ipython3",
   "version": "3.10.13"
  }
 },
 "nbformat": 4,
 "nbformat_minor": 5
}
